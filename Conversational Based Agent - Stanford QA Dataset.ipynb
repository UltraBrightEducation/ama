{
 "cells": [
  {
   "cell_type": "markdown",
   "metadata": {
    "colab_type": "text",
    "id": "tIqinjUX6ewC"
   },
   "source": [
    "<br>\n",
    "\n",
    "# 2. Chatbot\n",
    "\n",
    "---\n",
    "\n",
    "\n",
    "In this part, you will create a deep learning based conversational agent. This agent will be able to interact with users and understand their questions. More specifically, you will start with loading the dataset, cleaning and preprocessing them, and then you will feed them into a neural network."
   ]
  },
  {
   "cell_type": "markdown",
   "metadata": {},
   "source": [
    "<br>\n",
    "\n",
    "### 3.2. Load and Clean the Stanford Dataset \n",
    "\n",
    "---\n",
    "\n",
    "The second dataset that we are going to use, is called <a href=\"https://rajpurkar.github.io/SQuAD-explorer\">Stanford Question Answering Dataset (SQuAD 2.0)</a>. SQuAD is a reading comprehension dataset and a standard benchmark for QA models. THe dataset is publicly available on the website. "
   ]
  },
  {
   "cell_type": "code",
   "execution_count": 89,
   "metadata": {},
   "outputs": [],
   "source": [
    "# Import the libraries\n",
    "import json"
   ]
  },
  {
   "cell_type": "code",
   "execution_count": 90,
   "metadata": {},
   "outputs": [],
   "source": [
    "# Load the dataset\n",
    "with open('datasets/stanford question answering/dev-v2.0.json', 'r') as f:\n",
    "    train_data = json.load(f)\n",
    "    \n",
    "# Get the training data\n",
    "train_data = [item for topic in train_data['data'] for item in topic['paragraphs'] ]"
   ]
  },
  {
   "cell_type": "code",
   "execution_count": 91,
   "metadata": {},
   "outputs": [],
   "source": [
    "def load_stanford_dataset():\n",
    "    # Initialize the total questions and answers\n",
    "    total_questions, total_answers = [], []\n",
    "\n",
    "    # Iterate through train_data\n",
    "    for td in train_data:\n",
    "\n",
    "        # Get the list of questions and answers\n",
    "        qas = td[\"qas\"]\n",
    "\n",
    "        # Iterate through each question and answer\n",
    "        for i_qas in qas:\n",
    "\n",
    "            # Get the question\n",
    "            question = i_qas[\"question\"]\n",
    "            \n",
    "            # Get \"answers\" if it exists\n",
    "            if i_qas[\"answers\"]:\n",
    "                answer = i_qas[\"answers\"][0][\"text\"]\n",
    "                \n",
    "            # Get \"plausible_answers\" if it exists\n",
    "            elif i_qas[\"plausible_answers\"]:\n",
    "                answer = i_qas[\"plausible_answers\"][0][\"text\"]\n",
    "                \n",
    "            # If none of above exists then go to the beginning of the loop\n",
    "            else:\n",
    "                continue\n",
    "            \n",
    "            # Append the questions and answers into the total questions and answers\n",
    "            total_questions.append(question)\n",
    "            total_answers.append(answer)\n",
    "            \n",
    "    return total_questions, total_answers"
   ]
  },
  {
   "cell_type": "code",
   "execution_count": 92,
   "metadata": {},
   "outputs": [],
   "source": [
    "# Get the questions and answers\n",
    "questions_stanford, answers_stanford = load_stanford_dataset()"
   ]
  },
  {
   "cell_type": "code",
   "execution_count": 93,
   "metadata": {},
   "outputs": [
    {
     "name": "stdout",
     "output_type": "stream",
     "text": [
      "Total Question & Answers:  11858\n"
     ]
    }
   ],
   "source": [
    "print(\"Total Question & Answers: \", len(questions_stanford))"
   ]
  },
  {
   "cell_type": "code",
   "execution_count": 95,
   "metadata": {},
   "outputs": [
    {
     "name": "stdout",
     "output_type": "stream",
     "text": [
      "('In what country is Normandy located?', 'France')\n",
      "('When were the Normans in Normandy?', '10th and 11th centuries')\n",
      "('From which countries did the Norse originate?', 'Denmark, Iceland and Norway')\n",
      "('Who was the Norse leader?', 'Rollo')\n",
      "('What century did the Normans first gain their separate identity?', '10th century')\n",
      "(\"Who gave their name to Normandy in the 1000's and 1100's\", 'Normans')\n",
      "('What is France a region of?', 'Normandy')\n",
      "('Who did King Charles III swear fealty to?', 'Rollo')\n",
      "('When did the Frankish identity emerge?', '10th century')\n",
      "('Who was the duke in the battle of Hastings?', 'William the Conqueror')\n"
     ]
    }
   ],
   "source": [
    "for q, a in zip(questions_stanford[:10], answers_stanford[:10]):\n",
    "    print((q, a))"
   ]
  }
 ],
 "metadata": {
  "accelerator": "TPU",
  "colab": {
   "collapsed_sections": [],
   "machine_shape": "hm",
   "name": "Conversational Based Agent.ipynb",
   "provenance": [],
   "toc_visible": true
  },
  "kernelspec": {
   "display_name": "ama",
   "language": "python",
   "name": "ama"
  },
  "language_info": {
   "codemirror_mode": {
    "name": "ipython",
    "version": 3
   },
   "file_extension": ".py",
   "mimetype": "text/x-python",
   "name": "python",
   "nbconvert_exporter": "python",
   "pygments_lexer": "ipython3",
   "version": "3.7.7"
  }
 },
 "nbformat": 4,
 "nbformat_minor": 1
}
