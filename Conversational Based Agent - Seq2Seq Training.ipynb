{
 "cells": [
  {
   "cell_type": "markdown",
   "metadata": {
    "colab_type": "text",
    "id": "RKV2BEL76euo"
   },
   "source": [
    "<h1 style=\"text-align: center;text-transform: uppercase;\">Conversational Based Agent</h1>\n",
    "\n",
    "<br>\n",
    "\n",
    "In this project, you will build an end-to-end voice conversational agent, which can take a voice input audio line, and synthesize a response. The chatbot agent will be executed locally on your computer. \n",
    "\n",
    "<img style=\"width:550px; height:300px;\" src=\"assets/intro.png\">"
   ]
  },
  {
   "cell_type": "markdown",
   "metadata": {
    "colab_type": "text",
    "id": "j9fuw6EH4LOU"
   },
   "source": [
    "This project consists of the following parts:\n",
    "1. __Speech Recognition:__ <br>In this part, you will create a speech recognition that can convert your voice into a text format.<br><br>\n",
    "2. __Chatbot:__ <br>This is the core of your conversational based agent. You will build a chatbot that will answer your questions. <br><br>\n",
    "3. __Text to Speech:__ <br>After getting the answer from your chatbot, it should be converted into a voice format and that is what you should create in this part. <br><br>\n",
    "4. __Finalize your Conversational Based Agent:__ <br>At the very end step, you will put everything together and create your Conversational Based Agent."
   ]
  },
  {
   "cell_type": "markdown",
   "metadata": {
    "colab_type": "text",
    "id": "tIqinjUX6ewC"
   },
   "source": [
    "<br>\n",
    "\n",
    "# 2. Chatbot\n",
    "\n",
    "---\n",
    "\n",
    "\n",
    "In this part, you will create a deep learning based conversational agent. This agent will be able to interact with users and understand their questions. More specifically, you will start with loading the dataset, cleaning and preprocessing them, and then you will feed them into a neural network for training."
   ]
  },
  {
   "cell_type": "markdown",
   "metadata": {
    "colab_type": "text",
    "id": "PCTc1O_meJ0F"
   },
   "source": [
    "<br>\n",
    "\n",
    "### 2.2. Train the Seq2Seq Model\n",
    "\n",
    "---\n",
    "\n",
    "In this section, we will use an architecture called Sequence to Sequence (or Seq2Seq). This model is used since the length of the input sequence (question) does not match the length of the output sequence (answer). This model is consists of an encoder and a decoder.\n",
    "- __Encoder:__ <br> In this part of the network, we take the input data and train on it. Then we pass the last state of the recurrent layer to decoder. <br><br>\n",
    "- __Decoder:__ <br> In this part of the network, we take the last state in encoder’s last recurrent layer. Then we will use it as an initial state in decoder's first recurrent layer.\n",
    "\n",
    "<br>\n",
    "\n",
    "<img src=\"assets/encoder_decoder.png\">\n",
    "\n",
    "<br>\n",
    "\n",
    "Let's start by importing all the necessary libraries in Keras."
   ]
  },
  {
   "cell_type": "code",
   "execution_count": 119,
   "metadata": {
    "colab": {},
    "colab_type": "code",
    "id": "w521SVsleJ0F"
   },
   "outputs": [],
   "source": [
    "# Import the libraries\n",
    "import tensorflow.keras\n",
    "from tensorflow.keras.layers import Input, Embedding, LSTM, Dense\n",
    "from tensorflow.keras.models import Model\n",
    "from tensorflow.keras.optimizers import RMSprop\n",
    "from tensorflow.keras.activations import softmax\n",
    "from tensorflow.keras.callbacks import ModelCheckpoint"
   ]
  },
  {
   "cell_type": "markdown",
   "metadata": {
    "colab_type": "text",
    "id": "eq9ZLFSEKmNi"
   },
   "source": [
    "Below you can play around with hyperparameters for improving the model's accuracy."
   ]
  },
  {
   "cell_type": "code",
   "execution_count": 120,
   "metadata": {
    "colab": {},
    "colab_type": "code",
    "id": "hvhvarggeJ0P"
   },
   "outputs": [],
   "source": [
    "# Hyper parameters\n",
    "BATCH_SIZE = 32\n",
    "EPOCHS = 100\n",
    "LEARNING_RATE = 1e-3"
   ]
  },
  {
   "cell_type": "markdown",
   "metadata": {
    "colab_type": "text",
    "id": "RL28XUCmLb93"
   },
   "source": [
    "In the following block of code, you will implement the Encoder. You can follow the below steps for creating the encoder: \n",
    "\n",
    "1.   Create an input for the Encoder.\n",
    "2.   Create an embedding layer.\n",
    "3.   Create an LSTM layer which also returns the states.\n",
    "4.   Get the hidden state (state h) and cell state (state c) inside a list."
   ]
  },
  {
   "cell_type": "code",
   "execution_count": 126,
   "metadata": {
    "colab": {},
    "colab_type": "code",
    "id": "IlV38YEgeJ0Q"
   },
   "outputs": [],
   "source": [
    "### Encoder Input\n",
    "embed_dim = 200\n",
    "num_lstm = 200\n",
    "\n",
    "# Input for encoder\n",
    "encoder_inputs = Input(shape = (None, ), name='encoder_inputs')\n",
    "\n",
    "# Embedding layer\n",
    "# Why mask_zero = True? https://www.tensorflow.org/guide/keras/masking_and_padding\n",
    "encoder_embedding = Embedding(input_dim = VOCAB_SIZE, output_dim = embed_dim, mask_zero = True, name='encoder_embedding')(encoder_inputs)\n",
    "\n",
    "# LSTM layer (that returns states in addition to output)\n",
    "encoder_outputs, state_h, state_c = LSTM(units = num_lstm, return_state = True, name='encoder_lstm')(encoder_embedding)\n",
    "\n",
    "# Get the states for encoder\n",
    "encoder_states = [state_h, state_c]"
   ]
  },
  {
   "cell_type": "markdown",
   "metadata": {
    "colab_type": "text",
    "id": "svSUWa7NOlKq"
   },
   "source": [
    "After creating your encoder, it's time to implement the decoder. You can follow the below steps for implementing the decoder:\n",
    "\n",
    "1.   Create an input for the decoder.\n",
    "2.   Create an embedding layer.\n",
    "3.   Create an LSTM layer that returns states and sequences.\n",
    "4.   Create a dense layer.\n",
    "5.   Get the output."
   ]
  },
  {
   "cell_type": "code",
   "execution_count": 128,
   "metadata": {
    "colab": {},
    "colab_type": "code",
    "id": "-UaTlPLDeJ0R"
   },
   "outputs": [],
   "source": [
    "### Decoder\n",
    "\n",
    "# Input for decoder\n",
    "decoder_inputs = Input(shape = (None,  ), name='decoder_inputs')\n",
    "\n",
    "# Embedding layer\n",
    "decoder_embedding = Embedding(input_dim = VOCAB_SIZE, output_dim = embed_dim , mask_zero = True, name='decoder_embedding')(decoder_inputs)\n",
    "\n",
    "# LSTM layer (that returns states and sequences as well)\n",
    "decoder_lstm = LSTM(units = num_lstm , return_state = True , return_sequences = True, name='decoder_lstm')\n",
    "\n",
    "# Get the output of LSTM layer, using the initial states from the encoder\n",
    "decoder_outputs, _, _ = decoder_lstm(inputs = decoder_embedding, initial_state = encoder_states)\n",
    "\n",
    "# Dense layer\n",
    "decoder_dense = Dense(units = VOCAB_SIZE, activation = softmax, name='output') \n",
    "\n",
    "# Get the output of Dense layer\n",
    "output = decoder_dense(decoder_outputs)"
   ]
  },
  {
   "cell_type": "markdown",
   "metadata": {
    "colab_type": "text",
    "id": "QaOFGnnoQynS"
   },
   "source": [
    "Now that you have implemented the encoder and decoder. It's time to create your model which takes two inputs: encoder's input and decoder's input. Then it outputs the decoder's output."
   ]
  },
  {
   "cell_type": "code",
   "execution_count": 129,
   "metadata": {
    "colab": {},
    "colab_type": "code",
    "id": "8k0ErcMZeJ0T"
   },
   "outputs": [],
   "source": [
    "# Create the model\n",
    "model = Model([encoder_inputs, decoder_inputs], output)"
   ]
  },
  {
   "cell_type": "code",
   "execution_count": 130,
   "metadata": {
    "colab": {},
    "colab_type": "code",
    "id": "VamQBht8eJ0U"
   },
   "outputs": [],
   "source": [
    "# Compile the model\n",
    "model.compile(optimizer = RMSprop(lr = LEARNING_RATE), loss = \"categorical_crossentropy\")"
   ]
  },
  {
   "cell_type": "code",
   "execution_count": 131,
   "metadata": {
    "colab": {
     "base_uri": "https://localhost:8080/",
     "height": 425
    },
    "colab_type": "code",
    "executionInfo": {
     "elapsed": 526,
     "status": "ok",
     "timestamp": 1575581175908,
     "user": {
      "displayName": "soheil mohammadpour",
      "photoUrl": "https://lh3.googleusercontent.com/a-/AAuE7mADGOX2Mrqnd4Kv8uSoUa349iTKp3mAzZjVlkqF=s64",
      "userId": "06946141564410396693"
     },
     "user_tz": -240
    },
    "id": "CKrCrmA26eyQ",
    "outputId": "49f944e7-a3ae-4e33-9622-755d28fd8b6b"
   },
   "outputs": [
    {
     "name": "stdout",
     "output_type": "stream",
     "text": [
      "Model: \"model_10\"\n",
      "__________________________________________________________________________________________________\n",
      "Layer (type)                    Output Shape         Param #     Connected to                     \n",
      "==================================================================================================\n",
      "encoder_inputs (InputLayer)     [(None, None)]       0                                            \n",
      "__________________________________________________________________________________________________\n",
      "decoder_inputs (InputLayer)     [(None, None)]       0                                            \n",
      "__________________________________________________________________________________________________\n",
      "encoder_embedding (Embedding)   (None, None, 200)    387800      encoder_inputs[0][0]             \n",
      "__________________________________________________________________________________________________\n",
      "decoder_embedding (Embedding)   (None, None, 200)    387800      decoder_inputs[0][0]             \n",
      "__________________________________________________________________________________________________\n",
      "encoder_lstm (LSTM)             [(None, 200), (None, 320800      encoder_embedding[0][0]          \n",
      "__________________________________________________________________________________________________\n",
      "decoder_lstm (LSTM)             [(None, None, 200),  320800      decoder_embedding[0][0]          \n",
      "                                                                 encoder_lstm[0][1]               \n",
      "                                                                 encoder_lstm[0][2]               \n",
      "__________________________________________________________________________________________________\n",
      "output (Dense)                  (None, None, 1939)   389739      decoder_lstm[0][0]               \n",
      "==================================================================================================\n",
      "Total params: 1,806,939\n",
      "Trainable params: 1,806,939\n",
      "Non-trainable params: 0\n",
      "__________________________________________________________________________________________________\n"
     ]
    }
   ],
   "source": [
    "# Summary\n",
    "model.summary()"
   ]
  },
  {
   "cell_type": "code",
   "execution_count": null,
   "metadata": {},
   "outputs": [],
   "source": [
    "# Load all the arrays from storage\n",
    "encoder_input_data = np.load(\"enc_in_data.npy\")\n",
    "decoder_input_data = np.load(\"dec_in_data.npy\")\n",
    "decoder_output_data = np.load(\"dec_out_data.npy\")"
   ]
  },
  {
   "cell_type": "code",
   "execution_count": 132,
   "metadata": {
    "scrolled": true
   },
   "outputs": [
    {
     "name": "stdout",
     "output_type": "stream",
     "text": [
      "Train on 869 samples\n",
      "Epoch 1/100\n",
      "869/869 [==============================] - 9s 11ms/sample - loss: 1.4653\n",
      "Epoch 2/100\n",
      "869/869 [==============================] - 8s 9ms/sample - loss: 1.2848\n",
      "Epoch 3/100\n",
      "869/869 [==============================] - 7s 8ms/sample - loss: 1.2320\n",
      "Epoch 4/100\n",
      "869/869 [==============================] - 7s 8ms/sample - loss: 1.1936\n",
      "Epoch 5/100\n",
      "869/869 [==============================] - 7s 8ms/sample - loss: 1.1620\n",
      "Epoch 6/100\n",
      "869/869 [==============================] - 7s 8ms/sample - loss: 1.1305\n",
      "Epoch 7/100\n",
      "869/869 [==============================] - 7s 8ms/sample - loss: 1.1005\n",
      "Epoch 8/100\n",
      "869/869 [==============================] - 7s 8ms/sample - loss: 1.0700\n",
      "Epoch 9/100\n",
      "869/869 [==============================] - 7s 8ms/sample - loss: 1.0410\n",
      "Epoch 10/100\n",
      "869/869 [==============================] - 7s 8ms/sample - loss: 1.0121\n",
      "Epoch 11/100\n",
      "869/869 [==============================] - 7s 8ms/sample - loss: 0.9857\n",
      "Epoch 12/100\n",
      "869/869 [==============================] - 7s 8ms/sample - loss: 0.9601\n",
      "Epoch 13/100\n",
      "869/869 [==============================] - 7s 8ms/sample - loss: 0.9364\n",
      "Epoch 14/100\n",
      "869/869 [==============================] - 7s 8ms/sample - loss: 0.9137\n",
      "Epoch 15/100\n",
      "869/869 [==============================] - 7s 8ms/sample - loss: 0.8918\n",
      "Epoch 16/100\n",
      "869/869 [==============================] - 7s 8ms/sample - loss: 0.8714\n",
      "Epoch 17/100\n",
      "869/869 [==============================] - 7s 8ms/sample - loss: 0.8513\n",
      "Epoch 18/100\n",
      "869/869 [==============================] - 7s 8ms/sample - loss: 0.8317\n",
      "Epoch 19/100\n",
      "869/869 [==============================] - 7s 8ms/sample - loss: 0.8128\n",
      "Epoch 20/100\n",
      "869/869 [==============================] - 7s 8ms/sample - loss: 0.7925\n",
      "Epoch 21/100\n",
      "869/869 [==============================] - 7s 8ms/sample - loss: 0.7739\n",
      "Epoch 22/100\n",
      "869/869 [==============================] - 7s 8ms/sample - loss: 0.7548\n",
      "Epoch 23/100\n",
      "869/869 [==============================] - 7s 8ms/sample - loss: 0.7360\n",
      "Epoch 24/100\n",
      "869/869 [==============================] - 7s 8ms/sample - loss: 0.7182\n",
      "Epoch 25/100\n",
      "869/869 [==============================] - 7s 8ms/sample - loss: 0.7002\n",
      "Epoch 26/100\n",
      "869/869 [==============================] - 7s 8ms/sample - loss: 0.6820\n",
      "Epoch 27/100\n",
      "869/869 [==============================] - 7s 8ms/sample - loss: 0.6645\n",
      "Epoch 28/100\n",
      "869/869 [==============================] - 7s 8ms/sample - loss: 0.6478\n",
      "Epoch 29/100\n",
      "869/869 [==============================] - 7s 8ms/sample - loss: 0.6305\n",
      "Epoch 30/100\n",
      "869/869 [==============================] - 7s 8ms/sample - loss: 0.6138\n",
      "Epoch 31/100\n",
      "869/869 [==============================] - 7s 8ms/sample - loss: 0.5975\n",
      "Epoch 32/100\n",
      "869/869 [==============================] - 7s 8ms/sample - loss: 0.5819\n",
      "Epoch 33/100\n",
      "869/869 [==============================] - 7s 8ms/sample - loss: 0.5653\n",
      "Epoch 34/100\n",
      "869/869 [==============================] - 7s 8ms/sample - loss: 0.5492\n",
      "Epoch 35/100\n",
      "869/869 [==============================] - 7s 8ms/sample - loss: 0.5331\n",
      "Epoch 36/100\n",
      "869/869 [==============================] - 7s 8ms/sample - loss: 0.5181\n",
      "Epoch 37/100\n",
      "869/869 [==============================] - 7s 8ms/sample - loss: 0.5037\n",
      "Epoch 38/100\n",
      "869/869 [==============================] - 8s 9ms/sample - loss: 0.4879\n",
      "Epoch 39/100\n",
      "869/869 [==============================] - 7s 8ms/sample - loss: 0.4736\n",
      "Epoch 40/100\n",
      "869/869 [==============================] - 7s 8ms/sample - loss: 0.4602\n",
      "Epoch 41/100\n",
      "869/869 [==============================] - 7s 8ms/sample - loss: 0.4453\n",
      "Epoch 42/100\n",
      "869/869 [==============================] - 7s 8ms/sample - loss: 0.4314\n",
      "Epoch 43/100\n",
      "869/869 [==============================] - 7s 8ms/sample - loss: 0.4188\n",
      "Epoch 44/100\n",
      "869/869 [==============================] - 7s 8ms/sample - loss: 0.4060\n",
      "Epoch 45/100\n",
      "869/869 [==============================] - 7s 8ms/sample - loss: 0.3925\n",
      "Epoch 46/100\n",
      "869/869 [==============================] - 7s 8ms/sample - loss: 0.3802\n",
      "Epoch 47/100\n",
      "869/869 [==============================] - 7s 8ms/sample - loss: 0.3683\n",
      "Epoch 48/100\n",
      "869/869 [==============================] - 7s 8ms/sample - loss: 0.3566\n",
      "Epoch 49/100\n",
      "869/869 [==============================] - 7s 8ms/sample - loss: 0.3449\n",
      "Epoch 50/100\n",
      "869/869 [==============================] - 7s 8ms/sample - loss: 0.3330\n",
      "Epoch 51/100\n",
      "869/869 [==============================] - 7s 8ms/sample - loss: 0.3224\n",
      "Epoch 52/100\n",
      "869/869 [==============================] - 7s 8ms/sample - loss: 0.3118\n",
      "Epoch 53/100\n",
      "869/869 [==============================] - 7s 8ms/sample - loss: 0.3010\n",
      "Epoch 54/100\n",
      "869/869 [==============================] - 7s 8ms/sample - loss: 0.2920\n",
      "Epoch 55/100\n",
      "869/869 [==============================] - 7s 8ms/sample - loss: 0.2808\n",
      "Epoch 56/100\n",
      "869/869 [==============================] - 7s 8ms/sample - loss: 0.2723\n",
      "Epoch 57/100\n",
      "869/869 [==============================] - 7s 8ms/sample - loss: 0.2624\n",
      "Epoch 58/100\n",
      "869/869 [==============================] - 7s 8ms/sample - loss: 0.2537\n",
      "Epoch 59/100\n",
      "869/869 [==============================] - 7s 8ms/sample - loss: 0.2450\n",
      "Epoch 60/100\n",
      "869/869 [==============================] - 7s 8ms/sample - loss: 0.2362\n",
      "Epoch 61/100\n",
      "869/869 [==============================] - 7s 8ms/sample - loss: 0.2280\n",
      "Epoch 62/100\n",
      "869/869 [==============================] - 7s 8ms/sample - loss: 0.2212\n",
      "Epoch 63/100\n",
      "869/869 [==============================] - 7s 8ms/sample - loss: 0.2116\n",
      "Epoch 64/100\n",
      "869/869 [==============================] - 8s 9ms/sample - loss: 0.2046\n",
      "Epoch 65/100\n",
      "869/869 [==============================] - 7s 8ms/sample - loss: 0.1981\n",
      "Epoch 66/100\n",
      "869/869 [==============================] - 7s 8ms/sample - loss: 0.1897\n",
      "Epoch 67/100\n",
      "869/869 [==============================] - 7s 8ms/sample - loss: 0.1841\n",
      "Epoch 68/100\n",
      "869/869 [==============================] - 7s 8ms/sample - loss: 0.1766\n",
      "Epoch 69/100\n",
      "869/869 [==============================] - 7s 8ms/sample - loss: 0.1702\n",
      "Epoch 70/100\n",
      "869/869 [==============================] - 7s 8ms/sample - loss: 0.1650\n",
      "Epoch 71/100\n",
      "869/869 [==============================] - 7s 8ms/sample - loss: 0.1582\n",
      "Epoch 72/100\n",
      "869/869 [==============================] - 7s 8ms/sample - loss: 0.1530\n",
      "Epoch 73/100\n",
      "869/869 [==============================] - 7s 8ms/sample - loss: 0.1475\n",
      "Epoch 74/100\n",
      "869/869 [==============================] - 8s 9ms/sample - loss: 0.1417\n",
      "Epoch 75/100\n",
      "869/869 [==============================] - 7s 8ms/sample - loss: 0.1365\n",
      "Epoch 76/100\n",
      "869/869 [==============================] - 7s 8ms/sample - loss: 0.1310\n",
      "Epoch 77/100\n",
      "869/869 [==============================] - 7s 8ms/sample - loss: 0.1263\n",
      "Epoch 78/100\n",
      "869/869 [==============================] - 7s 8ms/sample - loss: 0.1223\n",
      "Epoch 79/100\n",
      "869/869 [==============================] - 7s 8ms/sample - loss: 0.1174\n",
      "Epoch 80/100\n",
      "869/869 [==============================] - 7s 8ms/sample - loss: 0.1134\n",
      "Epoch 81/100\n",
      "869/869 [==============================] - 8s 9ms/sample - loss: 0.1087\n",
      "Epoch 82/100\n",
      "869/869 [==============================] - 9s 10ms/sample - loss: 0.1054\n",
      "Epoch 83/100\n",
      "869/869 [==============================] - 8s 9ms/sample - loss: 0.1011\n",
      "Epoch 84/100\n",
      "869/869 [==============================] - 8s 9ms/sample - loss: 0.0980\n",
      "Epoch 85/100\n",
      "869/869 [==============================] - 7s 8ms/sample - loss: 0.0943\n",
      "Epoch 86/100\n",
      "869/869 [==============================] - 7s 8ms/sample - loss: 0.0914\n",
      "Epoch 87/100\n",
      "869/869 [==============================] - 7s 8ms/sample - loss: 0.0882\n",
      "Epoch 88/100\n",
      "869/869 [==============================] - 8s 10ms/sample - loss: 0.0852\n",
      "Epoch 89/100\n",
      "869/869 [==============================] - 8s 9ms/sample - loss: 0.0824\n",
      "Epoch 90/100\n",
      "869/869 [==============================] - 8s 9ms/sample - loss: 0.0800\n",
      "Epoch 91/100\n",
      "869/869 [==============================] - 8s 10ms/sample - loss: 0.0774\n",
      "Epoch 92/100\n",
      "869/869 [==============================] - 8s 9ms/sample - loss: 0.0744\n",
      "Epoch 93/100\n",
      "869/869 [==============================] - 7s 8ms/sample - loss: 0.0725\n",
      "Epoch 94/100\n",
      "869/869 [==============================] - 8s 9ms/sample - loss: 0.0701\n",
      "Epoch 95/100\n",
      "869/869 [==============================] - 9s 10ms/sample - loss: 0.0687\n",
      "Epoch 96/100\n",
      "869/869 [==============================] - 8s 9ms/sample - loss: 0.0663\n",
      "Epoch 97/100\n",
      "869/869 [==============================] - 7s 8ms/sample - loss: 0.0646\n",
      "Epoch 98/100\n",
      "869/869 [==============================] - 7s 8ms/sample - loss: 0.0632\n",
      "Epoch 99/100\n",
      "869/869 [==============================] - 7s 8ms/sample - loss: 0.0619\n",
      "Epoch 100/100\n",
      "869/869 [==============================] - 7s 8ms/sample - loss: 0.0600\n"
     ]
    },
    {
     "data": {
      "text/plain": [
       "<tensorflow.python.keras.callbacks.History at 0x186393fd0>"
      ]
     },
     "execution_count": 132,
     "metadata": {},
     "output_type": "execute_result"
    }
   ],
   "source": [
    "# Train the model\n",
    "model.fit(x = [encoder_input_data , decoder_input_data], \n",
    "          y = decoder_output_data, \n",
    "          batch_size = BATCH_SIZE, \n",
    "          epochs = EPOCHS) "
   ]
  },
  {
   "cell_type": "code",
   "execution_count": 133,
   "metadata": {
    "colab": {
     "base_uri": "https://localhost:8080/",
     "height": 34
    },
    "colab_type": "code",
    "executionInfo": {
     "elapsed": 2870,
     "status": "ok",
     "timestamp": 1575581735556,
     "user": {
      "displayName": "soheil mohammadpour",
      "photoUrl": "https://lh3.googleusercontent.com/a-/AAuE7mADGOX2Mrqnd4Kv8uSoUa349iTKp3mAzZjVlkqF=s64",
      "userId": "06946141564410396693"
     },
     "user_tz": -240
    },
    "id": "9ERetSNY4LRH",
    "outputId": "d52d02a7-54ed-478e-e0f3-604e8f534884"
   },
   "outputs": [
    {
     "name": "stdout",
     "output_type": "stream",
     "text": [
      "Model Weight Saved!\n"
     ]
    }
   ],
   "source": [
    "# Save the final model\n",
    "timestamp = datetime.now().strftime(\"%Y-%m-%d-%H-%M-%S\")\n",
    "model.save(filepath = f'saved_models/final_weight_{timestamp}.h5') \n",
    "print(f\"Model Weight Saved to {final_weight_{timestamp}.h5}!\")"
   ]
  },
  {
   "cell_type": "code",
   "execution_count": 70,
   "metadata": {
    "colab": {
     "base_uri": "https://localhost:8080/",
     "height": 34
    },
    "colab_type": "code",
    "executionInfo": {
     "elapsed": 1385,
     "status": "ok",
     "timestamp": 1575581737849,
     "user": {
      "displayName": "soheil mohammadpour",
      "photoUrl": "https://lh3.googleusercontent.com/a-/AAuE7mADGOX2Mrqnd4Kv8uSoUa349iTKp3mAzZjVlkqF=s64",
      "userId": "06946141564410396693"
     },
     "user_tz": -240
    },
    "id": "tkVPvGd74LRK",
    "outputId": "5a3a9d6e-4684-417d-f7ae-8824b57f0a8f"
   },
   "outputs": [
    {
     "name": "stdout",
     "output_type": "stream",
     "text": [
      "Model Weight Loaded!\n"
     ]
    }
   ],
   "source": [
    "# Load the final model\n",
    "model.load_weights(f'saved_models/final_weight_2020-08-01-16-28-47.h5') \n",
    "print(\"Model Weight Loaded!\")"
   ]
  }
 ],
 "metadata": {
  "accelerator": "TPU",
  "colab": {
   "collapsed_sections": [],
   "machine_shape": "hm",
   "name": "Conversational Based Agent.ipynb",
   "provenance": [],
   "toc_visible": true
  },
  "kernelspec": {
   "display_name": "ama",
   "language": "python",
   "name": "ama"
  },
  "language_info": {
   "codemirror_mode": {
    "name": "ipython",
    "version": 3
   },
   "file_extension": ".py",
   "mimetype": "text/x-python",
   "name": "python",
   "nbconvert_exporter": "python",
   "pygments_lexer": "ipython3",
   "version": "3.7.7"
  }
 },
 "nbformat": 4,
 "nbformat_minor": 1
}
