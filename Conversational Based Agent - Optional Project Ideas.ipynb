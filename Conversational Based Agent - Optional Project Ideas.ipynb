{
 "cells": [
  {
   "cell_type": "markdown",
   "metadata": {
    "colab_type": "text",
    "id": "gx13lGaR6evT"
   },
   "source": [
    "<br>\n",
    "\n",
    "# Conversational Agent Optional Enhancements\n",
    "\n",
    "---\n",
    "\n",
    "After you have completed the main project tasks of building a conversational agent using the chatterbot dataset, you may have noticed many issues or things that can be improved.\n",
    "\n",
    "Given what you have learned in python and NLP, you are now in a position to be able to extend this project and make it even better!\n",
    "\n",
    "Please write down the issues that you have observed and places that you think can be improved. You may then choose an area to tackle.\n",
    "\n",
    "Here are some improvements that can be implemented:\n",
    "\n",
    "1. __Support unknown words that are not in the tokenizer__ <br>\n",
    "\n",
    "2. __Better answer results when question are asked in a slightly different way__ <br>\n",
    "\n",
    "3. __New question and answering dataset__ <br>\n",
    "\n",
    "4. __More answer varieties__ <br>\n",
    "\n",
    "5. __Speech recognition with silence detection__ <br>\n",
    "\n",
    "6. __Build a conversational model that is not overfitted on the training dataset__ <br>\n",
    "\n",
    "\n",
    "\n",
    "<br>\n"
   ]
  },
  {
   "cell_type": "code",
   "execution_count": null,
   "metadata": {},
   "outputs": [],
   "source": []
  }
 ],
 "metadata": {
  "accelerator": "TPU",
  "colab": {
   "collapsed_sections": [],
   "machine_shape": "hm",
   "name": "Conversational Based Agent.ipynb",
   "provenance": [],
   "toc_visible": true
  },
  "kernelspec": {
   "display_name": "ama",
   "language": "python",
   "name": "ama"
  },
  "language_info": {
   "codemirror_mode": {
    "name": "ipython",
    "version": 3
   },
   "file_extension": ".py",
   "mimetype": "text/x-python",
   "name": "python",
   "nbconvert_exporter": "python",
   "pygments_lexer": "ipython3",
   "version": "3.7.7"
  }
 },
 "nbformat": 4,
 "nbformat_minor": 1
}
